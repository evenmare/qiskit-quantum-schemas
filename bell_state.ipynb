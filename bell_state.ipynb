{
 "cells": [
  {
   "cell_type": "markdown",
   "metadata": {},
   "source": [
    "# Задание 4\n",
    "\n",
    "Используя библиотеку Qiskit, создайте 4 состояния Белла."
   ]
  },
  {
   "cell_type": "code",
   "execution_count": 1,
   "metadata": {},
   "outputs": [],
   "source": [
    "SHOTS_COUNT = 1000  # определяем количество вычислений состояния"
   ]
  },
  {
   "cell_type": "code",
   "execution_count": 2,
   "metadata": {},
   "outputs": [],
   "source": [
    "from qiskit import QuantumCircuit\n",
    "from qiskit import execute, BasicAer\n",
    "\n",
    "backend = BasicAer.get_backend('qasm_simulator')"
   ]
  },
  {
   "cell_type": "code",
   "execution_count": 3,
   "metadata": {},
   "outputs": [
    {
     "name": "stdout",
     "output_type": "stream",
     "text": [
      "     ┌───┐     \n",
      "q_0: ┤ H ├──■──\n",
      "     └───┘┌─┴─┐\n",
      "q_1: ─────┤ X ├\n",
      "          └───┘\n",
      "c: 2/══════════\n",
      "               \n"
     ]
    }
   ],
   "source": [
    "circuit = QuantumCircuit(2, 2)\n",
    "\n",
    "circuit.h(0)\n",
    "circuit.cx(0, 1)\n",
    "\n",
    "print(circuit)"
   ]
  },
  {
   "cell_type": "code",
   "execution_count": 4,
   "metadata": {},
   "outputs": [
    {
     "data": {
      "text/plain": [
       "<qiskit.circuit.instructionset.InstructionSet at 0x11e4f2ce0>"
      ]
     },
     "execution_count": 4,
     "metadata": {},
     "output_type": "execute_result"
    }
   ],
   "source": [
    "circuit.measure([0, 1], [0, 1])"
   ]
  },
  {
   "cell_type": "code",
   "execution_count": 5,
   "metadata": {},
   "outputs": [
    {
     "data": {
      "text/plain": [
       "{'11': 489, '00': 511}"
      ]
     },
     "execution_count": 5,
     "metadata": {},
     "output_type": "execute_result"
    }
   ],
   "source": [
    "execute(circuit, backend, shots=SHOTS_COUNT).result().get_counts()"
   ]
  },
  {
   "cell_type": "code",
   "execution_count": 6,
   "metadata": {},
   "outputs": [
    {
     "name": "stdout",
     "output_type": "stream",
     "text": [
      "     ┌───┐┌───┐     \n",
      "q_0: ┤ X ├┤ H ├──■──\n",
      "     └───┘└───┘┌─┴─┐\n",
      "q_1: ──────────┤ X ├\n",
      "               └───┘\n",
      "c: 2/═══════════════\n",
      "                    \n"
     ]
    }
   ],
   "source": [
    "circuit = QuantumCircuit(2, 2)\n",
    "\n",
    "circuit.x(0)\n",
    "circuit.h(0)\n",
    "circuit.cx(0, 1)\n",
    "\n",
    "print(circuit)"
   ]
  },
  {
   "cell_type": "code",
   "execution_count": 7,
   "metadata": {},
   "outputs": [
    {
     "data": {
      "text/plain": [
       "<qiskit.circuit.instructionset.InstructionSet at 0x11e4f3d90>"
      ]
     },
     "execution_count": 7,
     "metadata": {},
     "output_type": "execute_result"
    }
   ],
   "source": [
    "circuit.measure([0, 1], [0, 1])"
   ]
  },
  {
   "cell_type": "code",
   "execution_count": 8,
   "metadata": {},
   "outputs": [
    {
     "data": {
      "text/plain": [
       "{'11': 509, '00': 491}"
      ]
     },
     "execution_count": 8,
     "metadata": {},
     "output_type": "execute_result"
    }
   ],
   "source": [
    "execute(circuit, backend, shots=SHOTS_COUNT).result().get_counts()"
   ]
  },
  {
   "cell_type": "code",
   "execution_count": 9,
   "metadata": {},
   "outputs": [
    {
     "name": "stdout",
     "output_type": "stream",
     "text": [
      "     ┌───┐          \n",
      "q_0: ┤ H ├──■───────\n",
      "     └───┘┌─┴─┐┌───┐\n",
      "q_1: ─────┤ X ├┤ X ├\n",
      "          └───┘└───┘\n",
      "c: 2/═══════════════\n",
      "                    \n"
     ]
    }
   ],
   "source": [
    "circuit = QuantumCircuit(2, 2)\n",
    "\n",
    "circuit.h(0)\n",
    "circuit.cx(0, 1)\n",
    "circuit.x(1)\n",
    "\n",
    "print(circuit)"
   ]
  },
  {
   "cell_type": "code",
   "execution_count": 10,
   "metadata": {},
   "outputs": [
    {
     "data": {
      "text/plain": [
       "<qiskit.circuit.instructionset.InstructionSet at 0x11e4f3f10>"
      ]
     },
     "execution_count": 10,
     "metadata": {},
     "output_type": "execute_result"
    }
   ],
   "source": [
    "circuit.measure([0, 1], [0, 1])"
   ]
  },
  {
   "cell_type": "code",
   "execution_count": 11,
   "metadata": {},
   "outputs": [
    {
     "data": {
      "text/plain": [
       "{'01': 492, '10': 508}"
      ]
     },
     "execution_count": 11,
     "metadata": {},
     "output_type": "execute_result"
    }
   ],
   "source": [
    "execute(circuit, backend, shots=SHOTS_COUNT).result().get_counts()"
   ]
  },
  {
   "cell_type": "code",
   "execution_count": 12,
   "metadata": {},
   "outputs": [
    {
     "name": "stdout",
     "output_type": "stream",
     "text": [
      "     ┌───┐┌───┐          \n",
      "q_0: ┤ X ├┤ H ├──■───────\n",
      "     └───┘└───┘┌─┴─┐┌───┐\n",
      "q_1: ──────────┤ X ├┤ X ├\n",
      "               └───┘└───┘\n",
      "c: 2/════════════════════\n",
      "                         \n"
     ]
    }
   ],
   "source": [
    "circuit = QuantumCircuit(2, 2)\n",
    "\n",
    "circuit.x(0)\n",
    "circuit.h(0)\n",
    "circuit.cx(0, 1)\n",
    "circuit.x(1)\n",
    "\n",
    "print(circuit)"
   ]
  },
  {
   "cell_type": "code",
   "execution_count": 13,
   "metadata": {},
   "outputs": [
    {
     "data": {
      "text/plain": [
       "<qiskit.circuit.instructionset.InstructionSet at 0x11e4f3f70>"
      ]
     },
     "execution_count": 13,
     "metadata": {},
     "output_type": "execute_result"
    }
   ],
   "source": [
    "circuit.measure([0, 1], [0, 1])"
   ]
  },
  {
   "cell_type": "code",
   "execution_count": 14,
   "metadata": {},
   "outputs": [
    {
     "data": {
      "text/plain": [
       "{'01': 503, '10': 497}"
      ]
     },
     "execution_count": 14,
     "metadata": {},
     "output_type": "execute_result"
    }
   ],
   "source": [
    "execute(circuit, backend, shots=SHOTS_COUNT).result().get_counts()"
   ]
  }
 ],
 "metadata": {
  "kernelspec": {
   "display_name": "venv",
   "language": "python",
   "name": "python3"
  },
  "language_info": {
   "codemirror_mode": {
    "name": "ipython",
    "version": 3
   },
   "file_extension": ".py",
   "mimetype": "text/x-python",
   "name": "python",
   "nbconvert_exporter": "python",
   "pygments_lexer": "ipython3",
   "version": "3.11.6"
  }
 },
 "nbformat": 4,
 "nbformat_minor": 2
}
