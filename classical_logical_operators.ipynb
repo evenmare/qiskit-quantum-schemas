{
 "cells": [
  {
   "cell_type": "markdown",
   "metadata": {},
   "source": [
    "# Задание 6\n",
    "\n",
    "С помощью библиотеки Qiskit создайте схемы для операторов классической логики: И, НЕ, ИЛИ, Исключающее ИЛИ. При создании этих операторов используйте вспомогательные кубиты (для того, чтобы входные данные сохранялись, выходные данные для некоторых логических операторов нужно сохранять в отдельных кубитах, которые можно назвать вспомогательными)."
   ]
  },
  {
   "cell_type": "code",
   "execution_count": 1,
   "metadata": {},
   "outputs": [],
   "source": [
    "SHOTS_COUNT = 10  # определяем количество вычислений состояния"
   ]
  },
  {
   "cell_type": "code",
   "execution_count": 2,
   "metadata": {},
   "outputs": [],
   "source": [
    "from qiskit import QuantumCircuit\n",
    "from qiskit import execute, BasicAer\n",
    "\n",
    "backend = BasicAer.get_backend('qasm_simulator')"
   ]
  },
  {
   "cell_type": "code",
   "execution_count": 3,
   "metadata": {},
   "outputs": [],
   "source": [
    "def execute_circuit(state: str, circuit: QuantumCircuit) -> None:\n",
    "    \"\"\" Подсчет схемы и отображение результата \"\"\"\n",
    "    print(f'{state} - '\n",
    "          f'{execute(circuit, backend, shots=SHOTS_COUNT).result().get_counts()}')"
   ]
  },
  {
   "cell_type": "markdown",
   "metadata": {},
   "source": [
    "## NOT"
   ]
  },
  {
   "cell_type": "code",
   "execution_count": 4,
   "metadata": {},
   "outputs": [
    {
     "name": "stdout",
     "output_type": "stream",
     "text": [
      "0 - {'1': 10}\n",
      "1 - {'0': 10}\n",
      "     ┌───────────────┐┌───┐┌─┐\n",
      "  q: ┤ Initialize(1) ├┤ X ├┤M├\n",
      "     └───────────────┘└───┘└╥┘\n",
      "c: 1/═══════════════════════╩═\n",
      "                            0 \n"
     ]
    }
   ],
   "source": [
    "for state in ('0', '1'):\n",
    "    circuit = QuantumCircuit(1, 1)\n",
    "    circuit.initialize(state, circuit.qubits)\n",
    "\n",
    "    circuit.x(0)\n",
    "\n",
    "    circuit.measure(0, 0)\n",
    "    execute_circuit(state, circuit)\n",
    "\n",
    "print(circuit)"
   ]
  },
  {
   "cell_type": "markdown",
   "metadata": {},
   "source": [
    "## XOR"
   ]
  },
  {
   "cell_type": "code",
   "execution_count": 5,
   "metadata": {},
   "outputs": [
    {
     "name": "stdout",
     "output_type": "stream",
     "text": [
      "00 - {'0': 10}\n",
      "01 - {'1': 10}\n",
      "10 - {'1': 10}\n",
      "11 - {'0': 10}\n",
      "     ┌──────────────────┐        \n",
      "q_0: ┤0                 ├──■─────\n",
      "     │  Initialize(1,1) │┌─┴─┐┌─┐\n",
      "q_1: ┤1                 ├┤ X ├┤M├\n",
      "     └──────────────────┘└───┘└╥┘\n",
      "c: 1/══════════════════════════╩═\n",
      "                               0 \n"
     ]
    }
   ],
   "source": [
    "for state in ('00', '01', '10', '11'):\n",
    "    circuit = QuantumCircuit(2, 1)\n",
    "    circuit.initialize(state, circuit.qubits)\n",
    "\n",
    "    circuit.cx(0, 1)\n",
    "\n",
    "    circuit.measure(1, 0)\n",
    "    execute_circuit(state, circuit)\n",
    "\n",
    "print(circuit)"
   ]
  },
  {
   "cell_type": "markdown",
   "metadata": {},
   "source": [
    "## OR"
   ]
  },
  {
   "cell_type": "code",
   "execution_count": 6,
   "metadata": {},
   "outputs": [
    {
     "name": "stdout",
     "output_type": "stream",
     "text": [
      "00 - {'0': 10}\n",
      "01 - {'1': 10}\n",
      "10 - {'1': 10}\n",
      "11 - {'1': 10}\n",
      "     ┌────────────────────┐                  \n",
      "q_0: ┤0                   ├───────■────■─────\n",
      "     │                    │     ┌─┴─┐┌─┴─┐┌─┐\n",
      "q_1: ┤1 Initialize(0,1,1) ├──■──┤ X ├┤ X ├┤M├\n",
      "     │                    │┌─┴─┐└───┘└─┬─┘└╥┘\n",
      "q_2: ┤2                   ├┤ X ├───────■───╫─\n",
      "     └────────────────────┘└───┘           ║ \n",
      "c: 1/══════════════════════════════════════╩═\n",
      "                                           0 \n"
     ]
    }
   ],
   "source": [
    "for state in ('000', '001', '010', '011'):\n",
    "    circuit = QuantumCircuit(3, 1)\n",
    "    circuit.initialize(state, circuit.qubits)\n",
    "\n",
    "    circuit.cx(1, 2)\n",
    "    circuit.cx(0, 1)\n",
    "    circuit.mcx([0, 2], 1)\n",
    "\n",
    "    circuit.measure(1, 0)\n",
    "    execute_circuit(state[1:], circuit)\n",
    "\n",
    "print(circuit)"
   ]
  },
  {
   "cell_type": "markdown",
   "metadata": {},
   "source": [
    "## AND"
   ]
  },
  {
   "cell_type": "code",
   "execution_count": 7,
   "metadata": {},
   "outputs": [
    {
     "name": "stdout",
     "output_type": "stream",
     "text": [
      "00 - {'0': 10}\n",
      "01 - {'0': 10}\n",
      "10 - {'0': 10}\n",
      "11 - {'1': 10}\n",
      "     ┌────────────────────┐┌───┐             \n",
      "q_0: ┤0                   ├┤ X ├──■────■─────\n",
      "     │                    │└───┘┌─┴─┐┌─┴─┐┌─┐\n",
      "q_1: ┤1 Initialize(0,1,1) ├──■──┤ X ├┤ X ├┤M├\n",
      "     │                    │┌─┴─┐├───┤└─┬─┘└╥┘\n",
      "q_2: ┤2                   ├┤ X ├┤ X ├──■───╫─\n",
      "     └────────────────────┘└───┘└───┘      ║ \n",
      "c: 1/══════════════════════════════════════╩═\n",
      "                                           0 \n"
     ]
    }
   ],
   "source": [
    "for state in ('000', '001', '010', '011'):\n",
    "    circuit = QuantumCircuit(3, 1)\n",
    "    circuit.initialize(state, circuit.qubits)\n",
    "\n",
    "    circuit.cx(1, 2)\n",
    "    circuit.x(2)\n",
    "    circuit.x(0)\n",
    "    circuit.cx(0, 1)\n",
    "    circuit.mcx([0, 2], 1)\n",
    "\n",
    "    circuit.measure(1, 0)\n",
    "    execute_circuit(state[1:], circuit)\n",
    "\n",
    "print(circuit)"
   ]
  }
 ],
 "metadata": {
  "kernelspec": {
   "display_name": "venv",
   "language": "python",
   "name": "python3"
  },
  "language_info": {
   "codemirror_mode": {
    "name": "ipython",
    "version": 3
   },
   "file_extension": ".py",
   "mimetype": "text/x-python",
   "name": "python",
   "nbconvert_exporter": "python",
   "pygments_lexer": "ipython3",
   "version": "3.11.6"
  }
 },
 "nbformat": 4,
 "nbformat_minor": 2
}
