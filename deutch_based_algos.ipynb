{
 "cells": [
  {
   "cell_type": "markdown",
   "metadata": {},
   "source": [
    "# Задание 3 (Л7)\n",
    "\n",
    "Для схем из заданий 1 и 2 напишите программы с использованием библиотеки Qiskit. Получите частоту результатов после измерения верхнего кубита при определении\n",
    "класса функций."
   ]
  },
  {
   "cell_type": "code",
   "execution_count": 1,
   "metadata": {},
   "outputs": [],
   "source": [
    "SHOTS_COUNT = 1000  # определяем количество вычислений состояния"
   ]
  },
  {
   "cell_type": "code",
   "execution_count": 2,
   "metadata": {},
   "outputs": [],
   "source": [
    "from qiskit import QuantumCircuit\n",
    "from qiskit import execute, BasicAer\n",
    "\n",
    "backend = BasicAer.get_backend('qasm_simulator')"
   ]
  },
  {
   "cell_type": "markdown",
   "metadata": {},
   "source": [
    "## Демонстрация задания 1\n",
    "\n",
    "В алгоритме Дойча, приведенном в лекции, замените оператор X (первый оператор, действующий на нижний кубит) на оператор Y."
   ]
  },
  {
   "cell_type": "markdown",
   "metadata": {},
   "source": [
    "$$ f(x) = 0 $$"
   ]
  },
  {
   "cell_type": "code",
   "execution_count": 3,
   "metadata": {},
   "outputs": [
    {
     "name": "stdout",
     "output_type": "stream",
     "text": [
      "{'0': 1000}\n",
      "     ┌───┐┌───┐   \n",
      "q_0: ┤ Y ├┤ H ├───\n",
      "     ├───┤├───┤┌─┐\n",
      "q_1: ┤ H ├┤ H ├┤M├\n",
      "     └───┘└───┘└╥┘\n",
      "c: 1/═══════════╩═\n",
      "                0 \n"
     ]
    }
   ],
   "source": [
    "circuit = QuantumCircuit(2, 1)\n",
    "\n",
    "circuit.y(0)\n",
    "\n",
    "circuit.h(0)\n",
    "circuit.h(1)\n",
    "\n",
    "circuit.h(1)\n",
    "\n",
    "circuit.measure(1, 0)\n",
    "\n",
    "print(execute(circuit, backend, shots=SHOTS_COUNT).result().get_counts())\n",
    "print(circuit)"
   ]
  },
  {
   "cell_type": "markdown",
   "metadata": {},
   "source": [
    "$$ f(x) = 1 $$"
   ]
  },
  {
   "cell_type": "code",
   "execution_count": 4,
   "metadata": {},
   "outputs": [
    {
     "name": "stdout",
     "output_type": "stream",
     "text": [
      "{'0': 1000}\n",
      "     ┌───┐┌───┐┌───┐\n",
      "q_0: ┤ Y ├┤ H ├┤ X ├\n",
      "     ├───┤├───┤└┬─┬┘\n",
      "q_1: ┤ H ├┤ H ├─┤M├─\n",
      "     └───┘└───┘ └╥┘ \n",
      "c: 1/════════════╩══\n",
      "                 0  \n"
     ]
    }
   ],
   "source": [
    "circuit = QuantumCircuit(2, 1)\n",
    "\n",
    "circuit.y(0)\n",
    "\n",
    "circuit.h(0)\n",
    "circuit.h(1)\n",
    "\n",
    "circuit.x(0)\n",
    "\n",
    "circuit.h(1)\n",
    "\n",
    "circuit.measure(1, 0)\n",
    "\n",
    "print(execute(circuit, backend, shots=SHOTS_COUNT).result().get_counts())\n",
    "print(circuit)"
   ]
  },
  {
   "cell_type": "markdown",
   "metadata": {},
   "source": [
    "$$ f(x) = x $$"
   ]
  },
  {
   "cell_type": "code",
   "execution_count": 5,
   "metadata": {},
   "outputs": [
    {
     "name": "stdout",
     "output_type": "stream",
     "text": [
      "{'1': 1000}\n",
      "     ┌───┐┌───┐┌───┐        \n",
      "q_0: ┤ Y ├┤ H ├┤ X ├────────\n",
      "     ├───┤└───┘└─┬─┘┌───┐┌─┐\n",
      "q_1: ┤ H ├───────■──┤ H ├┤M├\n",
      "     └───┘          └───┘└╥┘\n",
      "c: 1/═════════════════════╩═\n",
      "                          0 \n"
     ]
    }
   ],
   "source": [
    "circuit = QuantumCircuit(2, 1)\n",
    "\n",
    "circuit.y(0)\n",
    "\n",
    "circuit.h(0)\n",
    "circuit.h(1)\n",
    "\n",
    "circuit.cx(1, 0)\n",
    "\n",
    "circuit.h(1)\n",
    "\n",
    "circuit.measure(1, 0)\n",
    "\n",
    "print(execute(circuit, backend, shots=SHOTS_COUNT).result().get_counts())\n",
    "print(circuit)"
   ]
  },
  {
   "cell_type": "markdown",
   "metadata": {},
   "source": [
    "$$ f(x) = \\overline{x} $$"
   ]
  },
  {
   "cell_type": "code",
   "execution_count": 6,
   "metadata": {},
   "outputs": [
    {
     "name": "stdout",
     "output_type": "stream",
     "text": [
      "{'1': 1000}\n",
      "     ┌───┐┌───┐┌───┐             \n",
      "q_0: ┤ Y ├┤ H ├┤ X ├─────────────\n",
      "     ├───┤├───┤└─┬─┘┌───┐┌───┐┌─┐\n",
      "q_1: ┤ H ├┤ X ├──■──┤ X ├┤ H ├┤M├\n",
      "     └───┘└───┘     └───┘└───┘└╥┘\n",
      "c: 1/══════════════════════════╩═\n",
      "                               0 \n"
     ]
    }
   ],
   "source": [
    "circuit = QuantumCircuit(2, 1)\n",
    "\n",
    "circuit.y(0)\n",
    "\n",
    "circuit.h(0)\n",
    "circuit.h(1)\n",
    "\n",
    "circuit.x(1)\n",
    "circuit.cx(1, 0)\n",
    "circuit.x(1)\n",
    "\n",
    "circuit.h(1)\n",
    "\n",
    "circuit.measure(1, 0)\n",
    "\n",
    "print(execute(circuit, backend, shots=SHOTS_COUNT).result().get_counts())\n",
    "print(circuit)"
   ]
  },
  {
   "cell_type": "markdown",
   "metadata": {},
   "source": [
    "## Демонстрация задания 2\n",
    "\n",
    "Проведите действия, аналогичные расчетам в задании 1 для схемы с оператором CNOT вместо оператора X."
   ]
  },
  {
   "cell_type": "markdown",
   "metadata": {},
   "source": [
    "$$ f(x) = 0 $$"
   ]
  },
  {
   "cell_type": "code",
   "execution_count": 7,
   "metadata": {},
   "outputs": [
    {
     "name": "stdout",
     "output_type": "stream",
     "text": [
      "{'1': 485, '0': 515}\n",
      "          ┌───┐┌───┐   \n",
      "q_0: ─────┤ X ├┤ H ├───\n",
      "     ┌───┐└─┬─┘├───┤┌─┐\n",
      "q_1: ┤ H ├──■──┤ H ├┤M├\n",
      "     └───┘     └───┘└╥┘\n",
      "c: 1/════════════════╩═\n",
      "                     0 \n"
     ]
    }
   ],
   "source": [
    "circuit = QuantumCircuit(2, 1)\n",
    "\n",
    "circuit.h(1)\n",
    "circuit.cx(1, 0)\n",
    "\n",
    "circuit.h(0)\n",
    "\n",
    "circuit.h(1)\n",
    "\n",
    "circuit.measure(1, 0)\n",
    "\n",
    "print(execute(circuit, backend, shots=SHOTS_COUNT).result().get_counts())\n",
    "print(circuit)"
   ]
  },
  {
   "cell_type": "markdown",
   "metadata": {},
   "source": [
    "$$ f(x) = 1 $$"
   ]
  },
  {
   "cell_type": "code",
   "execution_count": 8,
   "metadata": {},
   "outputs": [
    {
     "name": "stdout",
     "output_type": "stream",
     "text": [
      "{'0': 499, '1': 501}\n",
      "          ┌───┐┌───┐┌───┐\n",
      "q_0: ─────┤ X ├┤ H ├┤ X ├\n",
      "     ┌───┐└─┬─┘├───┤└┬─┬┘\n",
      "q_1: ┤ H ├──■──┤ H ├─┤M├─\n",
      "     └───┘     └───┘ └╥┘ \n",
      "c: 1/═════════════════╩══\n",
      "                      0  \n"
     ]
    }
   ],
   "source": [
    "circuit = QuantumCircuit(2, 1)\n",
    "\n",
    "circuit.h(1)\n",
    "circuit.cx(1, 0)\n",
    "\n",
    "circuit.h(0)\n",
    "\n",
    "circuit.x(0)\n",
    "\n",
    "circuit.h(1)\n",
    "\n",
    "circuit.measure(1, 0)\n",
    "\n",
    "print(execute(circuit, backend, shots=SHOTS_COUNT).result().get_counts())\n",
    "print(circuit)"
   ]
  },
  {
   "cell_type": "markdown",
   "metadata": {},
   "source": [
    "$$ f(x) = x $$"
   ]
  },
  {
   "cell_type": "code",
   "execution_count": 9,
   "metadata": {},
   "outputs": [
    {
     "name": "stdout",
     "output_type": "stream",
     "text": [
      "{'0': 495, '1': 505}\n",
      "          ┌───┐┌───┐┌───┐        \n",
      "q_0: ─────┤ X ├┤ H ├┤ X ├────────\n",
      "     ┌───┐└─┬─┘└───┘└─┬─┘┌───┐┌─┐\n",
      "q_1: ┤ H ├──■─────────■──┤ H ├┤M├\n",
      "     └───┘               └───┘└╥┘\n",
      "c: 1/══════════════════════════╩═\n",
      "                               0 \n"
     ]
    }
   ],
   "source": [
    "circuit = QuantumCircuit(2, 1)\n",
    "\n",
    "circuit.h(1)\n",
    "circuit.cx(1, 0)\n",
    "\n",
    "circuit.h(0)\n",
    "\n",
    "circuit.cx(1, 0)\n",
    "\n",
    "circuit.h(1)\n",
    "\n",
    "circuit.measure(1, 0)\n",
    "\n",
    "print(execute(circuit, backend, shots=SHOTS_COUNT).result().get_counts())\n",
    "print(circuit)"
   ]
  },
  {
   "cell_type": "markdown",
   "metadata": {},
   "source": [
    "$$ f(x) = \\overline{x} $$"
   ]
  },
  {
   "cell_type": "code",
   "execution_count": 10,
   "metadata": {},
   "outputs": [
    {
     "name": "stdout",
     "output_type": "stream",
     "text": [
      "{'0': 485, '1': 515}\n",
      "          ┌───┐┌───┐┌───┐             \n",
      "q_0: ─────┤ X ├┤ H ├┤ X ├─────────────\n",
      "     ┌───┐└─┬─┘├───┤└─┬─┘┌───┐┌───┐┌─┐\n",
      "q_1: ┤ H ├──■──┤ X ├──■──┤ X ├┤ H ├┤M├\n",
      "     └───┘     └───┘     └───┘└───┘└╥┘\n",
      "c: 1/═══════════════════════════════╩═\n",
      "                                    0 \n"
     ]
    }
   ],
   "source": [
    "circuit = QuantumCircuit(2, 1)\n",
    "\n",
    "circuit.h(1)\n",
    "circuit.cx(1, 0)\n",
    "\n",
    "circuit.h(0)\n",
    "\n",
    "circuit.x(1)\n",
    "circuit.cx(1, 0)\n",
    "circuit.x(1)\n",
    "\n",
    "circuit.h(1)\n",
    "\n",
    "circuit.measure(1, 0)\n",
    "\n",
    "print(execute(circuit, backend, shots=SHOTS_COUNT).result().get_counts())\n",
    "print(circuit)"
   ]
  }
 ],
 "metadata": {
  "kernelspec": {
   "display_name": "venv",
   "language": "python",
   "name": "python3"
  },
  "language_info": {
   "codemirror_mode": {
    "name": "ipython",
    "version": 3
   },
   "file_extension": ".py",
   "mimetype": "text/x-python",
   "name": "python",
   "nbconvert_exporter": "python",
   "pygments_lexer": "ipython3",
   "version": "3.11.6"
  }
 },
 "nbformat": 4,
 "nbformat_minor": 2
}
