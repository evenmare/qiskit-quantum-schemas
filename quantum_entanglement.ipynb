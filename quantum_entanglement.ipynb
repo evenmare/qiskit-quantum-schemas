{
 "cells": [
  {
   "cell_type": "markdown",
   "metadata": {},
   "source": [
    "# Задание 5\n",
    "\n",
    "Используя библиотеку Qiskit, создайте схему квантовой телепортации для случая, когда состояние кубита телепортируется внутри одной квантовой схемы (без классических каналов передачи информации)."
   ]
  },
  {
   "cell_type": "code",
   "execution_count": 1,
   "metadata": {},
   "outputs": [],
   "source": [
    "SHOTS_COUNT = 1000  # определяем количество вычислений состояния"
   ]
  },
  {
   "cell_type": "code",
   "execution_count": 2,
   "metadata": {},
   "outputs": [],
   "source": [
    "from qiskit import QuantumCircuit\n",
    "from qiskit import ClassicalRegister, QuantumRegister\n",
    "from qiskit import execute, BasicAer\n",
    "\n",
    "backend = BasicAer.get_backend('qasm_simulator')"
   ]
  },
  {
   "cell_type": "code",
   "execution_count": 3,
   "metadata": {},
   "outputs": [],
   "source": [
    "class QuantumTeleportation:\n",
    "    \"\"\" Набор операций для квантовой телепортации \"\"\"\n",
    "    circuit: QuantumCircuit\n",
    "\n",
    "    def __init__(self) -> None:\n",
    "        self.q = QuantumRegister(3)\n",
    "        self.c = ClassicalRegister(3)\n",
    "        self.circuit = QuantumCircuit(self.q, self.c)\n",
    "\n",
    "    def join_cubits(self) -> None:\n",
    "        \"\"\" Запутывание кубитов \"\"\"\n",
    "        # ===========\n",
    "        self.circuit.barrier()\n",
    "\n",
    "        self.circuit.h(1)\n",
    "        self.circuit.cx(1, 2)\n",
    "\n",
    "    def operate_circuit(self) -> None:\n",
    "        \"\"\" Проведение операций над схемой \"\"\"\n",
    "        # ============\n",
    "        self.circuit.barrier()\n",
    "\n",
    "        self.circuit.cx(0, 1)\n",
    "        self.circuit.h(0)\n",
    "\n",
    "        # =============\n",
    "        self.circuit.barrier()\n",
    "\n",
    "        self.circuit.measure([0, 1], [0, 1])\n",
    "\n",
    "        # =============\n",
    "        self.circuit.barrier()\n",
    "    \n",
    "        self.circuit.cx(self.q[1], self.q[2])\n",
    "        self.circuit.cz(self.q[0], self.q[2])\n",
    "\n",
    "        # =============\n",
    "        self.circuit.barrier()\n",
    "\n",
    "        self.circuit.measure(2, 2)\n"
   ]
  },
  {
   "cell_type": "code",
   "execution_count": 4,
   "metadata": {},
   "outputs": [
    {
     "data": {
      "text/html": [
       "<pre style=\"word-wrap: normal;white-space: pre;background: #fff0;line-height: 1.1;font-family: &quot;Courier New&quot;,Courier,monospace\">       ░            ░      ┌───┐ ░ ┌─┐    ░          ░    \n",
       "q0_0: ─░────────────░───■──┤ H ├─░─┤M├────░───────■──░────\n",
       "       ░ ┌───┐      ░ ┌─┴─┐└───┘ ░ └╥┘┌─┐ ░       │  ░    \n",
       "q0_1: ─░─┤ H ├──■───░─┤ X ├──────░──╫─┤M├─░───■───┼──░────\n",
       "       ░ └───┘┌─┴─┐ ░ └───┘      ░  ║ └╥┘ ░ ┌─┴─┐ │  ░ ┌─┐\n",
       "q0_2: ─░──────┤ X ├─░────────────░──╫──╫──░─┤ X ├─■──░─┤M├\n",
       "       ░      └───┘ ░            ░  ║  ║  ░ └───┘    ░ └╥┘\n",
       "c0: 3/══════════════════════════════╩══╩════════════════╩═\n",
       "                                    0  1                2 </pre>"
      ],
      "text/plain": [
       "       ░            ░      ┌───┐ ░ ┌─┐    ░          ░    \n",
       "q0_0: ─░────────────░───■──┤ H ├─░─┤M├────░───────■──░────\n",
       "       ░ ┌───┐      ░ ┌─┴─┐└───┘ ░ └╥┘┌─┐ ░       │  ░    \n",
       "q0_1: ─░─┤ H ├──■───░─┤ X ├──────░──╫─┤M├─░───■───┼──░────\n",
       "       ░ └───┘┌─┴─┐ ░ └───┘      ░  ║ └╥┘ ░ ┌─┴─┐ │  ░ ┌─┐\n",
       "q0_2: ─░──────┤ X ├─░────────────░──╫──╫──░─┤ X ├─■──░─┤M├\n",
       "       ░      └───┘ ░            ░  ║  ║  ░ └───┘    ░ └╥┘\n",
       "c0: 3/══════════════════════════════╩══╩════════════════╩═\n",
       "                                    0  1                2 "
      ]
     },
     "execution_count": 4,
     "metadata": {},
     "output_type": "execute_result"
    }
   ],
   "source": [
    "qt000 = QuantumTeleportation()\n",
    "qt000.join_cubits()\n",
    "qt000.operate_circuit()\n",
    "qt000.circuit.draw()"
   ]
  },
  {
   "cell_type": "code",
   "execution_count": 5,
   "metadata": {},
   "outputs": [
    {
     "data": {
      "text/html": [
       "<pre style=\"word-wrap: normal;white-space: pre;background: #fff0;line-height: 1.1;font-family: &quot;Courier New&quot;,Courier,monospace\">       ░ ┌───┐      ░      ┌───┐ ░ ┌─┐    ░          ░    \n",
       "q1_0: ─░─┤ X ├──────░───■──┤ H ├─░─┤M├────░───────■──░────\n",
       "       ░ ├───┤      ░ ┌─┴─┐└───┘ ░ └╥┘┌─┐ ░       │  ░    \n",
       "q1_1: ─░─┤ H ├──■───░─┤ X ├──────░──╫─┤M├─░───■───┼──░────\n",
       "       ░ └───┘┌─┴─┐ ░ └───┘      ░  ║ └╥┘ ░ ┌─┴─┐ │  ░ ┌─┐\n",
       "q1_2: ─░──────┤ X ├─░────────────░──╫──╫──░─┤ X ├─■──░─┤M├\n",
       "       ░      └───┘ ░            ░  ║  ║  ░ └───┘    ░ └╥┘\n",
       "c1: 3/══════════════════════════════╩══╩════════════════╩═\n",
       "                                    0  1                2 </pre>"
      ],
      "text/plain": [
       "       ░ ┌───┐      ░      ┌───┐ ░ ┌─┐    ░          ░    \n",
       "q1_0: ─░─┤ X ├──────░───■──┤ H ├─░─┤M├────░───────■──░────\n",
       "       ░ ├───┤      ░ ┌─┴─┐└───┘ ░ └╥┘┌─┐ ░       │  ░    \n",
       "q1_1: ─░─┤ H ├──■───░─┤ X ├──────░──╫─┤M├─░───■───┼──░────\n",
       "       ░ └───┘┌─┴─┐ ░ └───┘      ░  ║ └╥┘ ░ ┌─┴─┐ │  ░ ┌─┐\n",
       "q1_2: ─░──────┤ X ├─░────────────░──╫──╫──░─┤ X ├─■──░─┤M├\n",
       "       ░      └───┘ ░            ░  ║  ║  ░ └───┘    ░ └╥┘\n",
       "c1: 3/══════════════════════════════╩══╩════════════════╩═\n",
       "                                    0  1                2 "
      ]
     },
     "execution_count": 5,
     "metadata": {},
     "output_type": "execute_result"
    }
   ],
   "source": [
    "_qt100 = QuantumTeleportation()\n",
    "_qt100.join_cubits()\n",
    "_qt100.circuit.x(_qt100.q[0])  # 0 --> 1\n",
    "_qt100.operate_circuit()\n",
    "_qt100.circuit.draw()\n"
   ]
  },
  {
   "cell_type": "code",
   "execution_count": 6,
   "metadata": {},
   "outputs": [
    {
     "data": {
      "text/html": [
       "<pre style=\"word-wrap: normal;white-space: pre;background: #fff0;line-height: 1.1;font-family: &quot;Courier New&quot;,Courier,monospace\">      ┌───┐ ░            ░      ┌───┐ ░ ┌─┐    ░          ░    \n",
       "q2_0: ┤ X ├─░────────────░───■──┤ H ├─░─┤M├────░───────■──░────\n",
       "      └───┘ ░ ┌───┐      ░ ┌─┴─┐└───┘ ░ └╥┘┌─┐ ░       │  ░    \n",
       "q2_1: ──────░─┤ H ├──■───░─┤ X ├──────░──╫─┤M├─░───■───┼──░────\n",
       "            ░ └───┘┌─┴─┐ ░ └───┘      ░  ║ └╥┘ ░ ┌─┴─┐ │  ░ ┌─┐\n",
       "q2_2: ──────░──────┤ X ├─░────────────░──╫──╫──░─┤ X ├─■──░─┤M├\n",
       "            ░      └───┘ ░            ░  ║  ║  ░ └───┘    ░ └╥┘\n",
       "c2: 3/═══════════════════════════════════╩══╩════════════════╩═\n",
       "                                         0  1                2 </pre>"
      ],
      "text/plain": [
       "      ┌───┐ ░            ░      ┌───┐ ░ ┌─┐    ░          ░    \n",
       "q2_0: ┤ X ├─░────────────░───■──┤ H ├─░─┤M├────░───────■──░────\n",
       "      └───┘ ░ ┌───┐      ░ ┌─┴─┐└───┘ ░ └╥┘┌─┐ ░       │  ░    \n",
       "q2_1: ──────░─┤ H ├──■───░─┤ X ├──────░──╫─┤M├─░───■───┼──░────\n",
       "            ░ └───┘┌─┴─┐ ░ └───┘      ░  ║ └╥┘ ░ ┌─┴─┐ │  ░ ┌─┐\n",
       "q2_2: ──────░──────┤ X ├─░────────────░──╫──╫──░─┤ X ├─■──░─┤M├\n",
       "            ░      └───┘ ░            ░  ║  ║  ░ └───┘    ░ └╥┘\n",
       "c2: 3/═══════════════════════════════════╩══╩════════════════╩═\n",
       "                                         0  1                2 "
      ]
     },
     "execution_count": 6,
     "metadata": {},
     "output_type": "execute_result"
    }
   ],
   "source": [
    "qt100_ = QuantumTeleportation()\n",
    "qt100_.circuit.x(qt100_.q[0])  # 0 --> 1\n",
    "qt100_.join_cubits()\n",
    "qt100_.operate_circuit()\n",
    "qt100_.circuit.draw()\n"
   ]
  },
  {
   "cell_type": "code",
   "execution_count": 7,
   "metadata": {},
   "outputs": [
    {
     "data": {
      "text/plain": [
       "{'000': 235, '011': 262, '010': 249, '001': 254}"
      ]
     },
     "execution_count": 7,
     "metadata": {},
     "output_type": "execute_result"
    }
   ],
   "source": [
    "counts = execute(qt000.circuit, backend, shots=SHOTS_COUNT).result().get_counts()\n",
    "counts"
   ]
  },
  {
   "cell_type": "code",
   "execution_count": 8,
   "metadata": {},
   "outputs": [],
   "source": [
    "import matplotlib.pyplot as plt"
   ]
  },
  {
   "cell_type": "code",
   "execution_count": 9,
   "metadata": {},
   "outputs": [
    {
     "data": {
      "image/png": "[encoded data removed]",
      "text/plain": [
       "<Figure size 640x480 with 1 Axes>"
      ]
     },
     "metadata": {},
     "output_type": "display_data"
    }
   ],
   "source": [
    "counts_list = [key for key, val in counts.items() for _ in range(val)]\n",
    "\n",
    "plt.hist(counts_list)\n",
    "plt.show()"
   ]
  }
 ],
 "metadata": {
  "kernelspec": {
   "display_name": "venv",
   "language": "python",
   "name": "python3"
  },
  "language_info": {
   "codemirror_mode": {
    "name": "ipython",
    "version": 3
   },
   "file_extension": ".py",
   "mimetype": "text/x-python",
   "name": "python",
   "nbconvert_exporter": "python",
   "pygments_lexer": "ipython3",
   "version": "3.11.6"
  }
 },
 "nbformat": 4,
 "nbformat_minor": 2
}
